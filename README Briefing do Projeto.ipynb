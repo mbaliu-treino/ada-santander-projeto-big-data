{
 "cells": [
  {
   "cell_type": "markdown",
   "metadata": {
    "application/vnd.databricks.v1+cell": {
     "cellMetadata": {},
     "inputWidgets": {},
     "nuid": "aa70838a-1232-4826-843b-15e82a3ee60e",
     "showTitle": false,
     "title": ""
    }
   },
   "source": [
    "# Título do Trabalho\n",
    "Desenvolvimento e Avaliação de uma Arquitetura Distribuída para o Cadastro Ambiental\n",
    "Rural"
   ]
  },
  {
   "cell_type": "markdown",
   "metadata": {
    "application/vnd.databricks.v1+cell": {
     "cellMetadata": {},
     "inputWidgets": {},
     "nuid": "5c6b1840-6ec1-44d3-af18-ec37dbfbf807",
     "showTitle": false,
     "title": ""
    }
   },
   "source": [
    "# Objetivo\n",
    "\n",
    "O objetivo deste trabalho é explorar as capacidades de arquiteturas de bancos de dados\n",
    "distribuídos para lidar com conjuntos de dados \"grandes\", em particular, o \"Cadastro\n",
    "Ambiental Rural\". Os alunos devem propor uma nova arquitetura, implementá-la, modelar os\n",
    "dados de acordo com as especificações e projetar um particionamento efetivo."
   ]
  },
  {
   "cell_type": "markdown",
   "metadata": {
    "application/vnd.databricks.v1+cell": {
     "cellMetadata": {},
     "inputWidgets": {},
     "nuid": "bf620185-65db-4cfb-baaf-f2f6f9f2cd1d",
     "showTitle": false,
     "title": ""
    }
   },
   "source": [
    "# Descrição do Problema\n",
    "\n",
    "O \"Cadastro Ambiental Rural\" é um conjunto de dados que contém informações sobre\n",
    "propriedades rurais no Brasil. O desafio é projetar uma arquitetura que possibilite o\n",
    "gerenciamento eficiente desses dados, permitindo consultas e análises rápidas, mesmo\n",
    "diante do tamanho considerável da base de dados.\n",
    "\n",
    "Dados\n",
    "https://dados.gov.br/dados/conjuntos-dados/cadastro-ambiental-rural1 --> Temas Ambientais"
   ]
  },
  {
   "cell_type": "markdown",
   "metadata": {
    "application/vnd.databricks.v1+cell": {
     "cellMetadata": {},
     "inputWidgets": {},
     "nuid": "39fe72bd-f1ec-4ae9-8526-c94b926f6de8",
     "showTitle": false,
     "title": ""
    }
   },
   "source": [
    "# Tarefas\n",
    "Os alunos devem seguir as seguintes etapas:\n",
    "\n",
    "* **Proposição da Nova Arquitetura**: Proponha uma arquitetura de banco de dados distribuído\n",
    "que seja adequada para lidar com o \"Cadastro Ambiental Rural\". Explique as escolhas de\n",
    "tecnologias, componentes e a lógica de funcionamento da arquitetura.\n",
    "\n",
    "* **Implementação da Arquitetura**: Implemente a arquitetura proposta em um ambiente de\n",
    "teste. Isso envolverá a configuração e integração de sistemas de gerenciamento de banco\n",
    "de dados distribuído, servidores, clusters e outros componentes necessários.\n",
    "\n",
    "* **Modelagem do Novo Banco de Dados**: Modele os dados do \"Cadastro Ambiental Rural\" de\n",
    "acordo com a arquitetura proposta.\n",
    "\n",
    "* **Projeto de Particionamento Adequado/efetivo**: Projete um esquema de particionamento que\n",
    "permita a distribuição eficiente dos dados."
   ]
  },
  {
   "cell_type": "markdown",
   "metadata": {
    "application/vnd.databricks.v1+cell": {
     "cellMetadata": {},
     "inputWidgets": {},
     "nuid": "cadb8a50-0e4c-40e4-b5a5-1c68e1275b75",
     "showTitle": false,
     "title": ""
    }
   },
   "source": [
    "# Consultas\n",
    "\n",
    "## Consulta 1\n",
    "Recupere a soma de área (em hectares) para todas as propriedades agrícolas que\n",
    "pertencem ao MS e MT. Ordene os resultados em ordem decrescente.\n",
    "\n",
    "## Consulta 2\n",
    "Filtre todas as propriedades que pertecem a região sudeste.\n",
    "\n",
    "## Consulta 3\n",
    "Calcule quantas propriedades foram cadastradas por ano. Apresente os resultados em\n",
    "ordem cronológica.\n",
    "\n",
    "## Consulta 4\n",
    "Calcule o percentual médio de área remanescente de vegetação nativa em comparação a\n",
    "área total da propriedade\n",
    "\n",
    "## Consulta 5\n",
    "Construa uma consulta que mostre a contagem de propriedades rurais por estado.\n",
    "\n",
    "## Consulta 6\n",
    "Faça a média de área entre todas as propriedades. Calcule quantas propriedades por\n",
    "estado, estão acima da média."
   ]
  }
 ],
 "metadata": {
  "application/vnd.databricks.v1+notebook": {
   "dashboards": [],
   "language": "python",
   "notebookMetadata": {
    "pythonIndentUnit": 4
   },
   "notebookName": "README Briefing do Projeto",
   "widgets": {}
  }
 },
 "nbformat": 4,
 "nbformat_minor": 0
}
